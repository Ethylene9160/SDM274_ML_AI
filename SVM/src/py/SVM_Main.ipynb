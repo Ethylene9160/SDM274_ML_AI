{
 "cells": [
  {
   "cell_type": "code",
   "execution_count": 8,
   "outputs": [],
   "source": [
    "import numpy as np\n",
    "import cvxopt\n",
    "\n",
    "from mSVM import SVM # See in mSVM.py in detals.\n",
    "from IPython.display import Latex"
   ],
   "metadata": {
    "collapsed": false,
    "ExecuteTime": {
     "end_time": "2023-12-29T01:48:05.774293900Z",
     "start_time": "2023-12-29T01:48:05.754504600Z"
    }
   },
   "id": "1168714a404e330b"
  },
  {
   "cell_type": "raw",
   "source": [
    "This is a test sample of SVM, in which I encapsulate the class SVM into file mSVM.py.\n",
    "You can copy the implimentation in mSVM.py to this jupyter notebook, \n",
    "or just run it like this.\n",
    "\n",
    "Load data"
   ],
   "metadata": {
    "collapsed": false
   },
   "id": "1b50b6bdaa042eac"
  },
  {
   "cell_type": "code",
   "execution_count": 2,
   "outputs": [
    {
     "name": "stdout",
     "output_type": "stream",
     "text": [
      "(20000, 17)\n",
      "[['T' '2' '8' ... '8' '0' '8']\n",
      " ['I' '5' '12' ... '8' '4' '10']\n",
      " ['D' '4' '11' ... '7' '3' '9']\n",
      " ...\n",
      " ['T' '6' '9' ... '12' '2' '4']\n",
      " ['S' '2' '3' ... '9' '5' '8']\n",
      " ['A' '4' '9' ... '7' '2' '8']]\n",
      "['T' 'I' 'D' ... 'T' 'S' 'A']\n",
      "[-1 -1 -1 ... -1 -1 -1]\n",
      "[[ 2.  8.  3. ...  8.  0.  8.]\n",
      " [ 5. 12.  3. ...  8.  4. 10.]\n",
      " [ 4. 11.  6. ...  7.  3.  9.]\n",
      " ...\n",
      " [ 6.  9.  6. ... 12.  2.  4.]\n",
      " [ 2.  3.  4. ...  9.  5.  8.]\n",
      " [ 4.  9.  6. ...  7.  2.  8.]]\n"
     ]
    }
   ],
   "source": [
    "data = np.loadtxt('letter-recognition.data', delimiter=',', dtype=str)\n",
    "print(data.shape)\n",
    "print(data)\n",
    "# Extract the class labels (first column) and features (remaining columns)\n",
    "labels = data[:, 0]\n",
    "features = data[:, 1:].astype(np.float64)\n",
    "\n",
    "# Convert class labels to binary: 1 for 'C' and -1 for other letters\n",
    "binary_labels = np.where(labels == 'C', 1, -1)\n",
    "\n",
    "# Verify the transformation and separation\n",
    "binary_labels[:10], features[:5, :]\n",
    "print(labels)\n",
    "print(binary_labels)\n",
    "print(features)"
   ],
   "metadata": {
    "collapsed": false,
    "ExecuteTime": {
     "end_time": "2023-12-29T01:41:45.996012200Z",
     "start_time": "2023-12-29T01:41:45.838217Z"
    }
   },
   "id": "e32b6d5e43fdc96a"
  },
  {
   "cell_type": "raw",
   "source": [
    "Infact, the SVM performs better when vertifying small number of training data, (some due to the size of training data, it seems 21,000 points need too much time, which is not easy to debug).\n",
    "\n",
    "So we're going to use 2000 data as training set, while the rest of which will be our test data.\n",
    "\n",
    "In SVM, the formular of calculating $b$ and $\\omega$ is:\n",
    "\n",
    "$$\n",
    "b = 1/n_sv * sum_i (y_i - \\sum_j (\\alpha_j * y_j * K(x_i, x_j)))\\\\\n",
    "w = \\sum_i (\\alpha_i * y_i * x_i)\n",
    "$$\n",
    "\n",
    "if we use kernal funcion, the formular becomes:\n",
    "\n",
    "$\\hat y = sum_i (alpha_i * y_i * K(x_i, x))$\n",
    "\n"
   ],
   "metadata": {
    "collapsed": false
   },
   "id": "977fb867cd86c838"
  },
  {
   "cell_type": "code",
   "execution_count": 13,
   "outputs": [
    {
     "data": {
      "text/plain": "<IPython.core.display.Latex object>",
      "text/latex": "r$w = \\sum_i (\u0007lpha_i * y_i * x_i)$"
     },
     "execution_count": 13,
     "metadata": {},
     "output_type": "execute_result"
    }
   ],
   "source": [],
   "metadata": {
    "collapsed": false,
    "ExecuteTime": {
     "end_time": "2023-12-29T01:49:33.384509500Z",
     "start_time": "2023-12-29T01:49:33.360937200Z"
    }
   },
   "id": "a7ea58bc651eda77"
  },
  {
   "cell_type": "code",
   "execution_count": 3,
   "outputs": [
    {
     "name": "stdout",
     "output_type": "stream",
     "text": [
      "[[ 2.  8.  3. ...  8.  0.  8.]\n",
      " [ 5. 12.  3. ...  8.  4. 10.]\n",
      " [ 4. 11.  6. ...  7.  3.  9.]\n",
      " ...\n",
      " [ 4.  8.  4. ... 10.  1.  8.]\n",
      " [ 1.  0.  2. ... 10.  0.  8.]\n",
      " [ 5. 12.  5. ...  4.  2. 10.]]\n",
      "[-1 -1 -1 ... -1 -1 -1]\n"
     ]
    }
   ],
   "source": [
    "train_number = 2000 # size of training data we're going to use\n",
    "train_labels = binary_labels[0:train_number]\n",
    "train_data = features[0:train_number]\n",
    "print(train_data)\n",
    "print(train_labels)\n",
    "test_data = features[train_number:]\n",
    "test_labels = binary_labels[train_number:]"
   ],
   "metadata": {
    "collapsed": false,
    "ExecuteTime": {
     "end_time": "2023-12-29T01:41:46.619878100Z",
     "start_time": "2023-12-29T01:41:46.599274800Z"
    }
   },
   "id": "e7d68b58553edda8"
  },
  {
   "cell_type": "markdown",
   "source": [
    "use sigmoid function as kernal function, accuracy is 96.38%"
   ],
   "metadata": {
    "collapsed": false
   },
   "id": "8f29dbe8ec6f6db3"
  },
  {
   "cell_type": "code",
   "execution_count": 26,
   "outputs": [
    {
     "name": "stdout",
     "output_type": "stream",
     "text": [
      "     pcost       dcost       gap    pres   dres\n",
      " 0: -4.6448e+02 -6.2225e+03  3e+04  3e+00  4e-14\n",
      " 1: -2.6144e+02 -3.2431e+03  4e+03  1e-01  8e-14\n",
      " 2: -2.4164e+02 -4.2893e+02  2e+02  3e-04  3e-14\n",
      " 3: -2.4193e+02 -2.4388e+02  2e+00  3e-06  2e-14\n",
      " 4: -2.4200e+02 -2.4202e+02  2e-02  3e-08  1e-14\n",
      " 5: -2.4200e+02 -2.4200e+02  2e-04  3e-10  7e-15\n",
      "Optimal solution found.\n",
      "Accuracy: 96.38%\n"
     ]
    }
   ],
   "source": [
    "svm_sigmoid = SVM(kernel='sigmoid', C=1.0)\n",
    "\n",
    "# Train the classifier\n",
    "svm_sigmoid.fit(train_data, train_labels)\n",
    "\n",
    "# predictions\n",
    "y_pred_sigmoid = svm_sigmoid.predict(test_data)\n",
    "\n",
    "# accuracy\n",
    "accuracy = np.mean(test_labels == y_pred_sigmoid)\n",
    "print(f'Accuracy: {accuracy * 100:.2f}%')"
   ],
   "metadata": {
    "collapsed": false,
    "ExecuteTime": {
     "end_time": "2023-12-29T01:27:32.995584700Z",
     "start_time": "2023-12-29T01:25:35.297600Z"
    }
   },
   "id": "1e18b34ee6a3fb9b"
  },
  {
   "cell_type": "markdown",
   "source": [
    "use rbf as kernal function, 99.38% correct."
   ],
   "metadata": {
    "collapsed": false
   },
   "id": "eb44ada2308aa057"
  },
  {
   "cell_type": "code",
   "execution_count": 30,
   "outputs": [
    {
     "name": "stdout",
     "output_type": "stream",
     "text": [
      "     pcost       dcost       gap    pres   dres\n",
      " 0: -7.2917e+01 -5.2470e+03  3e+04  2e+00  1e-15\n",
      " 1: -5.4717e+01 -2.4847e+03  3e+03  1e-01  7e-16\n",
      " 2: -5.2074e+01 -4.9034e+02  5e+02  2e-02  6e-16\n",
      " 3: -6.4809e+01 -2.3215e+02  2e+02  5e-03  9e-16\n",
      " 4: -7.3123e+01 -1.2951e+02  6e+01  5e-04  6e-16\n",
      " 5: -7.7340e+01 -9.4467e+01  2e+01  2e-05  5e-16\n",
      " 6: -7.8953e+01 -8.4302e+01  5e+00  5e-15  3e-16\n",
      " 7: -7.9574e+01 -8.1102e+01  2e+00  4e-15  3e-16\n",
      " 8: -7.9817e+01 -8.0170e+01  4e-01  5e-15  3e-16\n",
      " 9: -7.9879e+01 -7.9994e+01  1e-01  6e-15  3e-16\n",
      "10: -7.9904e+01 -7.9930e+01  3e-02  1e-14  3e-16\n",
      "11: -7.9909e+01 -7.9917e+01  8e-03  1e-15  3e-16\n",
      "12: -7.9912e+01 -7.9912e+01  7e-04  7e-15  3e-16\n",
      "13: -7.9912e+01 -7.9912e+01  2e-05  6e-15  3e-16\n",
      "Optimal solution found.\n",
      "Accuracy: 99.32%\n"
     ]
    }
   ],
   "source": [
    "svm_rbf =  SVM(kernel='rbf', C=1.0)\n",
    "\n",
    "# Train the classifier\n",
    "svm_rbf.fit(train_data, train_labels)\n",
    "\n",
    "# predictions\n",
    "y_pred_rpl = svm_rbf.predict(test_data)\n",
    "\n",
    "# accuracy\n",
    "accuracy = np.mean(test_labels == y_pred_rpl)\n",
    "print(f'Accuracy: {accuracy * 100:.2f}%')"
   ],
   "metadata": {
    "collapsed": false,
    "ExecuteTime": {
     "end_time": "2023-12-29T01:36:22.417467600Z",
     "start_time": "2023-12-29T01:34:50.476167Z"
    }
   },
   "id": "6733bbb4e798c56a"
  },
  {
   "cell_type": "markdown",
   "source": [
    "linear function, which is 96.86% with a faster speed."
   ],
   "metadata": {
    "collapsed": false
   },
   "id": "4e41c663d7401361"
  },
  {
   "cell_type": "code",
   "execution_count": 7,
   "outputs": [
    {
     "name": "stdout",
     "output_type": "stream",
     "text": [
      "pass1\n",
      "     pcost       dcost       gap    pres   dres\n",
      " 0: -2.3870e+02 -4.1945e+03  2e+04  3e+00  7e-12\n",
      " 1: -1.5629e+02 -2.3022e+03  4e+03  3e-01  5e-12\n",
      " 2: -1.4022e+02 -1.0296e+03  1e+03  1e-01  4e-12\n",
      " 3: -1.2683e+02 -8.1853e+02  1e+03  7e-02  3e-12\n",
      " 4: -1.1416e+02 -5.0515e+02  6e+02  4e-02  3e-12\n",
      " 5: -1.0447e+02 -3.1601e+02  3e+02  2e-02  3e-12\n",
      " 6: -9.9498e+01 -2.1483e+02  1e+02  4e-03  3e-12\n",
      " 7: -1.0318e+02 -1.8607e+02  1e+02  3e-03  3e-12\n",
      " 8: -1.0351e+02 -1.7148e+02  7e+01  1e-03  3e-12\n",
      " 9: -1.0408e+02 -1.6833e+02  7e+01  1e-03  3e-12\n",
      "10: -1.0319e+02 -1.6719e+02  7e+01  9e-04  3e-12\n",
      "11: -1.0663e+02 -1.5284e+02  5e+01  5e-04  3e-12\n",
      "12: -1.0678e+02 -1.5182e+02  5e+01  4e-04  3e-12\n",
      "13: -1.0997e+02 -1.4266e+02  3e+01  2e-04  3e-12\n",
      "14: -1.0969e+02 -1.4214e+02  3e+01  2e-04  3e-12\n",
      "15: -1.1231e+02 -1.3638e+02  2e+01  1e-04  3e-12\n",
      "16: -1.1365e+02 -1.3200e+02  2e+01  7e-05  3e-12\n",
      "17: -1.1527e+02 -1.2828e+02  1e+01  3e-05  4e-12\n",
      "18: -1.1625e+02 -1.2580e+02  1e+01  1e-05  4e-12\n",
      "19: -1.1746e+02 -1.2382e+02  6e+00  6e-06  4e-12\n",
      "20: -1.1785e+02 -1.2309e+02  5e+00  3e-06  3e-12\n",
      "21: -1.1875e+02 -1.2187e+02  3e+00  1e-06  4e-12\n",
      "22: -1.1982e+02 -1.2047e+02  6e-01  8e-15  4e-12\n",
      "23: -1.2006e+02 -1.2021e+02  2e-01  6e-15  4e-12\n",
      "24: -1.2012e+02 -1.2014e+02  2e-02  3e-15  4e-12\n",
      "25: -1.2013e+02 -1.2013e+02  1e-03  4e-15  4e-12\n",
      "26: -1.2013e+02 -1.2013e+02  2e-05  2e-16  4e-12\n",
      "Optimal solution found.\n",
      "Accuracy: 96.86%\n"
     ]
    }
   ],
   "source": [
    "svm_linear =  SVM(kernel='linear', C=1.0)\n",
    "\n",
    "# Train the classifier\n",
    "svm_linear.fit(train_data, train_labels)\n",
    "\n",
    "# predictions\n",
    "y_pred_linear = svm_linear.predict(test_data)\n",
    "\n",
    "# accuracy\n",
    "accuracy = np.mean(test_labels == y_pred_linear)\n",
    "print(f'Accuracy: {accuracy * 100:.2f}%')"
   ],
   "metadata": {
    "collapsed": false,
    "ExecuteTime": {
     "end_time": "2023-12-29T01:43:48.873803700Z",
     "start_time": "2023-12-29T01:43:33.895186900Z"
    }
   },
   "id": "93fbecf0bbf6965a"
  },
  {
   "cell_type": "code",
   "execution_count": null,
   "outputs": [],
   "source": [],
   "metadata": {
    "collapsed": false
   },
   "id": "451b6f548ee8f8d6"
  }
 ],
 "metadata": {
  "kernelspec": {
   "display_name": "Python 3",
   "language": "python",
   "name": "python3"
  },
  "language_info": {
   "codemirror_mode": {
    "name": "ipython",
    "version": 2
   },
   "file_extension": ".py",
   "mimetype": "text/x-python",
   "name": "python",
   "nbconvert_exporter": "python",
   "pygments_lexer": "ipython2",
   "version": "2.7.6"
  }
 },
 "nbformat": 4,
 "nbformat_minor": 5
}
